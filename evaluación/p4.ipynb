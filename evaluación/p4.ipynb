{
 "cells": [
  {
   "cell_type": "markdown",
   "metadata": {
    "jupyter": {
     "outputs_hidden": true
    }
   },
   "source": [
    "# Pregunta 4\n",
    "Leemos la base de datos desde la web"
   ]
  },
  {
   "cell_type": "code",
   "execution_count": 1,
   "metadata": {},
   "outputs": [],
   "source": [
    "pagina = 'http://fosorios.mat.utfsm.cl/files/data/bloodsugar.csv'\n",
    "x <- url(pagina, \"r\")\n",
    "x <- readLines(x)\n",
    "data = read.csv(text = x)"
   ]
  },
  {
   "cell_type": "code",
   "execution_count": 2,
   "metadata": {},
   "outputs": [
    {
     "data": {
      "text/html": [
       "<table>\n",
       "<caption>A data.frame: 88 × 7</caption>\n",
       "<thead>\n",
       "\t<tr><th scope=col>L1</th><th scope=col>L2</th><th scope=col>L3</th><th scope=col>L4</th><th scope=col>L5</th><th scope=col>Group</th><th scope=col>Treatment</th></tr>\n",
       "\t<tr><th scope=col>&lt;int&gt;</th><th scope=col>&lt;int&gt;</th><th scope=col>&lt;int&gt;</th><th scope=col>&lt;int&gt;</th><th scope=col>&lt;int&gt;</th><th scope=col>&lt;int&gt;</th><th scope=col>&lt;chr&gt;</th></tr>\n",
       "</thead>\n",
       "<tbody>\n",
       "\t<tr><td> 77</td><td>52</td><td>35</td><td> 56</td><td> 64</td><td>1</td><td>A</td></tr>\n",
       "\t<tr><td> 90</td><td>47</td><td>52</td><td> 68</td><td> 90</td><td>1</td><td>B</td></tr>\n",
       "\t<tr><td> 85</td><td>52</td><td>35</td><td> 39</td><td> 60</td><td>1</td><td>A</td></tr>\n",
       "\t<tr><td> 94</td><td>60</td><td>60</td><td> 77</td><td> 94</td><td>1</td><td>B</td></tr>\n",
       "\t<tr><td> 77</td><td>56</td><td>43</td><td> 56</td><td> 64</td><td>1</td><td>A</td></tr>\n",
       "\t<tr><td> 85</td><td>52</td><td>60</td><td> 81</td><td> 94</td><td>1</td><td>B</td></tr>\n",
       "\t<tr><td>103</td><td>26</td><td>68</td><td> 30</td><td> 30</td><td>1</td><td>A</td></tr>\n",
       "\t<tr><td>107</td><td>60</td><td>68</td><td> 90</td><td> 94</td><td>1</td><td>B</td></tr>\n",
       "\t<tr><td> 77</td><td>43</td><td>64</td><td> 39</td><td> 64</td><td>1</td><td>A</td></tr>\n",
       "\t<tr><td> 90</td><td>30</td><td>30</td><td> 47</td><td> 60</td><td>1</td><td>B</td></tr>\n",
       "\t<tr><td> 99</td><td>39</td><td>39</td><td> 73</td><td> 90</td><td>1</td><td>A</td></tr>\n",
       "\t<tr><td>103</td><td>60</td><td>60</td><td> 90</td><td> 99</td><td>1</td><td>B</td></tr>\n",
       "\t<tr><td> 81</td><td>56</td><td>22</td><td> 35</td><td> 39</td><td>1</td><td>A</td></tr>\n",
       "\t<tr><td>107</td><td>47</td><td>47</td><td> 47</td><td> 73</td><td>1</td><td>B</td></tr>\n",
       "\t<tr><td> 77</td><td>26</td><td>56</td><td> 64</td><td> 64</td><td>1</td><td>A</td></tr>\n",
       "\t<tr><td>116</td><td>52</td><td>26</td><td> 68</td><td>120</td><td>1</td><td>B</td></tr>\n",
       "\t<tr><td> 90</td><td>73</td><td>52</td><td> 60</td><td> 64</td><td>1</td><td>A</td></tr>\n",
       "\t<tr><td> 94</td><td>60</td><td>60</td><td> 77</td><td> 90</td><td>1</td><td>B</td></tr>\n",
       "\t<tr><td> 90</td><td>60</td><td>18</td><td> 35</td><td> 64</td><td>1</td><td>A</td></tr>\n",
       "\t<tr><td> 94</td><td>56</td><td>47</td><td> 81</td><td> 99</td><td>1</td><td>B</td></tr>\n",
       "\t<tr><td>103</td><td>47</td><td>22</td><td> 60</td><td> 99</td><td>1</td><td>A</td></tr>\n",
       "\t<tr><td> 90</td><td>47</td><td>30</td><td> 43</td><td> 68</td><td>1</td><td>B</td></tr>\n",
       "\t<tr><td> 85</td><td>56</td><td>56</td><td> 77</td><td> 94</td><td>1</td><td>A</td></tr>\n",
       "\t<tr><td>111</td><td>73</td><td>85</td><td>103</td><td>111</td><td>1</td><td>B</td></tr>\n",
       "\t<tr><td> 99</td><td>47</td><td>52</td><td> 47</td><td> 81</td><td>1</td><td>A</td></tr>\n",
       "\t<tr><td> 99</td><td>26</td><td>64</td><td> 52</td><td> 90</td><td>1</td><td>B</td></tr>\n",
       "\t<tr><td> 90</td><td>43</td><td>18</td><td> 30</td><td> 39</td><td>1</td><td>A</td></tr>\n",
       "\t<tr><td>111</td><td>56</td><td>43</td><td> 90</td><td>111</td><td>1</td><td>B</td></tr>\n",
       "\t<tr><td> 90</td><td>35</td><td>22</td><td> 26</td><td> 22</td><td>1</td><td>A</td></tr>\n",
       "\t<tr><td> 94</td><td> 8</td><td>30</td><td> 26</td><td> 43</td><td>1</td><td>B</td></tr>\n",
       "\t<tr><td>...</td><td>...</td><td>...</td><td>...</td><td>...</td><td>...</td><td>...</td></tr>\n",
       "\t<tr><td> 90</td><td>12</td><td>43</td><td> 85</td><td> 99</td><td>2</td><td>B</td></tr>\n",
       "\t<tr><td> 92</td><td>52</td><td>73</td><td> 99</td><td>101</td><td>2</td><td>A</td></tr>\n",
       "\t<tr><td> 85</td><td>35</td><td>39</td><td> 85</td><td> 77</td><td>2</td><td>B</td></tr>\n",
       "\t<tr><td> 85</td><td>47</td><td>56</td><td> 77</td><td> 81</td><td>2</td><td>A</td></tr>\n",
       "\t<tr><td> 90</td><td>43</td><td>35</td><td> 64</td><td> 81</td><td>2</td><td>B</td></tr>\n",
       "\t<tr><td> 85</td><td>52</td><td>52</td><td> 77</td><td> 99</td><td>2</td><td>A</td></tr>\n",
       "\t<tr><td>103</td><td>56</td><td>47</td><td> 64</td><td> 56</td><td>2</td><td>B</td></tr>\n",
       "\t<tr><td>103</td><td>35</td><td>39</td><td> 68</td><td> 99</td><td>2</td><td>A</td></tr>\n",
       "\t<tr><td> 90</td><td>35</td><td>18</td><td> 64</td><td> 94</td><td>2</td><td>B</td></tr>\n",
       "\t<tr><td>107</td><td>47</td><td>43</td><td> 85</td><td>101</td><td>2</td><td>A</td></tr>\n",
       "\t<tr><td> 90</td><td>52</td><td>35</td><td> 35</td><td> 39</td><td>2</td><td>B</td></tr>\n",
       "\t<tr><td> 90</td><td>43</td><td>30</td><td> 47</td><td> 77</td><td>2</td><td>A</td></tr>\n",
       "\t<tr><td> 77</td><td>56</td><td>64</td><td> 81</td><td> 99</td><td>2</td><td>B</td></tr>\n",
       "\t<tr><td>111</td><td>60</td><td>68</td><td>107</td><td>111</td><td>2</td><td>A</td></tr>\n",
       "\t<tr><td> 81</td><td>22</td><td>12</td><td> 22</td><td> 77</td><td>2</td><td>B</td></tr>\n",
       "\t<tr><td> 81</td><td>12</td><td> 2</td><td> 30</td><td> 77</td><td>2</td><td>A</td></tr>\n",
       "\t<tr><td> 68</td><td>12</td><td> 8</td><td>  8</td><td> 39</td><td>2</td><td>B</td></tr>\n",
       "\t<tr><td> 85</td><td>26</td><td>12</td><td> 18</td><td> 39</td><td>2</td><td>A</td></tr>\n",
       "\t<tr><td> 85</td><td>30</td><td>22</td><td> 52</td><td> 94</td><td>2</td><td>B</td></tr>\n",
       "\t<tr><td> 90</td><td>30</td><td>26</td><td> 52</td><td> 90</td><td>2</td><td>A</td></tr>\n",
       "\t<tr><td> 85</td><td>39</td><td>22</td><td> 56</td><td> 90</td><td>2</td><td>B</td></tr>\n",
       "\t<tr><td>105</td><td>68</td><td>64</td><td> 81</td><td> 81</td><td>2</td><td>A</td></tr>\n",
       "\t<tr><td> 85</td><td>47</td><td>33</td><td> 77</td><td>107</td><td>2</td><td>B</td></tr>\n",
       "\t<tr><td> 85</td><td>39</td><td>39</td><td> 43</td><td> 60</td><td>2</td><td>A</td></tr>\n",
       "\t<tr><td> 85</td><td>35</td><td>26</td><td> 43</td><td> 73</td><td>2</td><td>B</td></tr>\n",
       "\t<tr><td> 90</td><td>43</td><td>35</td><td> 81</td><td> 90</td><td>2</td><td>A</td></tr>\n",
       "\t<tr><td> 94</td><td>39</td><td>35</td><td> 52</td><td> 85</td><td>2</td><td>B</td></tr>\n",
       "\t<tr><td> 94</td><td>26</td><td>30</td><td> 39</td><td> 81</td><td>2</td><td>A</td></tr>\n",
       "\t<tr><td> 90</td><td>22</td><td>26</td><td> 73</td><td> 99</td><td>2</td><td>B</td></tr>\n",
       "\t<tr><td>103</td><td>47</td><td>35</td><td> 64</td><td> 94</td><td>2</td><td>A</td></tr>\n",
       "</tbody>\n",
       "</table>\n"
      ],
      "text/latex": [
       "A data.frame: 88 × 7\n",
       "\\begin{tabular}{lllllll}\n",
       " L1 & L2 & L3 & L4 & L5 & Group & Treatment\\\\\n",
       " <int> & <int> & <int> & <int> & <int> & <int> & <chr>\\\\\n",
       "\\hline\n",
       "\t  77 & 52 & 35 &  56 &  64 & 1 & A\\\\\n",
       "\t  90 & 47 & 52 &  68 &  90 & 1 & B\\\\\n",
       "\t  85 & 52 & 35 &  39 &  60 & 1 & A\\\\\n",
       "\t  94 & 60 & 60 &  77 &  94 & 1 & B\\\\\n",
       "\t  77 & 56 & 43 &  56 &  64 & 1 & A\\\\\n",
       "\t  85 & 52 & 60 &  81 &  94 & 1 & B\\\\\n",
       "\t 103 & 26 & 68 &  30 &  30 & 1 & A\\\\\n",
       "\t 107 & 60 & 68 &  90 &  94 & 1 & B\\\\\n",
       "\t  77 & 43 & 64 &  39 &  64 & 1 & A\\\\\n",
       "\t  90 & 30 & 30 &  47 &  60 & 1 & B\\\\\n",
       "\t  99 & 39 & 39 &  73 &  90 & 1 & A\\\\\n",
       "\t 103 & 60 & 60 &  90 &  99 & 1 & B\\\\\n",
       "\t  81 & 56 & 22 &  35 &  39 & 1 & A\\\\\n",
       "\t 107 & 47 & 47 &  47 &  73 & 1 & B\\\\\n",
       "\t  77 & 26 & 56 &  64 &  64 & 1 & A\\\\\n",
       "\t 116 & 52 & 26 &  68 & 120 & 1 & B\\\\\n",
       "\t  90 & 73 & 52 &  60 &  64 & 1 & A\\\\\n",
       "\t  94 & 60 & 60 &  77 &  90 & 1 & B\\\\\n",
       "\t  90 & 60 & 18 &  35 &  64 & 1 & A\\\\\n",
       "\t  94 & 56 & 47 &  81 &  99 & 1 & B\\\\\n",
       "\t 103 & 47 & 22 &  60 &  99 & 1 & A\\\\\n",
       "\t  90 & 47 & 30 &  43 &  68 & 1 & B\\\\\n",
       "\t  85 & 56 & 56 &  77 &  94 & 1 & A\\\\\n",
       "\t 111 & 73 & 85 & 103 & 111 & 1 & B\\\\\n",
       "\t  99 & 47 & 52 &  47 &  81 & 1 & A\\\\\n",
       "\t  99 & 26 & 64 &  52 &  90 & 1 & B\\\\\n",
       "\t  90 & 43 & 18 &  30 &  39 & 1 & A\\\\\n",
       "\t 111 & 56 & 43 &  90 & 111 & 1 & B\\\\\n",
       "\t  90 & 35 & 22 &  26 &  22 & 1 & A\\\\\n",
       "\t  94 &  8 & 30 &  26 &  43 & 1 & B\\\\\n",
       "\t ... & ... & ... & ... & ... & ... & ...\\\\\n",
       "\t  90 & 12 & 43 &  85 &  99 & 2 & B\\\\\n",
       "\t  92 & 52 & 73 &  99 & 101 & 2 & A\\\\\n",
       "\t  85 & 35 & 39 &  85 &  77 & 2 & B\\\\\n",
       "\t  85 & 47 & 56 &  77 &  81 & 2 & A\\\\\n",
       "\t  90 & 43 & 35 &  64 &  81 & 2 & B\\\\\n",
       "\t  85 & 52 & 52 &  77 &  99 & 2 & A\\\\\n",
       "\t 103 & 56 & 47 &  64 &  56 & 2 & B\\\\\n",
       "\t 103 & 35 & 39 &  68 &  99 & 2 & A\\\\\n",
       "\t  90 & 35 & 18 &  64 &  94 & 2 & B\\\\\n",
       "\t 107 & 47 & 43 &  85 & 101 & 2 & A\\\\\n",
       "\t  90 & 52 & 35 &  35 &  39 & 2 & B\\\\\n",
       "\t  90 & 43 & 30 &  47 &  77 & 2 & A\\\\\n",
       "\t  77 & 56 & 64 &  81 &  99 & 2 & B\\\\\n",
       "\t 111 & 60 & 68 & 107 & 111 & 2 & A\\\\\n",
       "\t  81 & 22 & 12 &  22 &  77 & 2 & B\\\\\n",
       "\t  81 & 12 &  2 &  30 &  77 & 2 & A\\\\\n",
       "\t  68 & 12 &  8 &   8 &  39 & 2 & B\\\\\n",
       "\t  85 & 26 & 12 &  18 &  39 & 2 & A\\\\\n",
       "\t  85 & 30 & 22 &  52 &  94 & 2 & B\\\\\n",
       "\t  90 & 30 & 26 &  52 &  90 & 2 & A\\\\\n",
       "\t  85 & 39 & 22 &  56 &  90 & 2 & B\\\\\n",
       "\t 105 & 68 & 64 &  81 &  81 & 2 & A\\\\\n",
       "\t  85 & 47 & 33 &  77 & 107 & 2 & B\\\\\n",
       "\t  85 & 39 & 39 &  43 &  60 & 2 & A\\\\\n",
       "\t  85 & 35 & 26 &  43 &  73 & 2 & B\\\\\n",
       "\t  90 & 43 & 35 &  81 &  90 & 2 & A\\\\\n",
       "\t  94 & 39 & 35 &  52 &  85 & 2 & B\\\\\n",
       "\t  94 & 26 & 30 &  39 &  81 & 2 & A\\\\\n",
       "\t  90 & 22 & 26 &  73 &  99 & 2 & B\\\\\n",
       "\t 103 & 47 & 35 &  64 &  94 & 2 & A\\\\\n",
       "\\end{tabular}\n"
      ],
      "text/markdown": [
       "\n",
       "A data.frame: 88 × 7\n",
       "\n",
       "| L1 &lt;int&gt; | L2 &lt;int&gt; | L3 &lt;int&gt; | L4 &lt;int&gt; | L5 &lt;int&gt; | Group &lt;int&gt; | Treatment &lt;chr&gt; |\n",
       "|---|---|---|---|---|---|---|\n",
       "|  77 | 52 | 35 |  56 |  64 | 1 | A |\n",
       "|  90 | 47 | 52 |  68 |  90 | 1 | B |\n",
       "|  85 | 52 | 35 |  39 |  60 | 1 | A |\n",
       "|  94 | 60 | 60 |  77 |  94 | 1 | B |\n",
       "|  77 | 56 | 43 |  56 |  64 | 1 | A |\n",
       "|  85 | 52 | 60 |  81 |  94 | 1 | B |\n",
       "| 103 | 26 | 68 |  30 |  30 | 1 | A |\n",
       "| 107 | 60 | 68 |  90 |  94 | 1 | B |\n",
       "|  77 | 43 | 64 |  39 |  64 | 1 | A |\n",
       "|  90 | 30 | 30 |  47 |  60 | 1 | B |\n",
       "|  99 | 39 | 39 |  73 |  90 | 1 | A |\n",
       "| 103 | 60 | 60 |  90 |  99 | 1 | B |\n",
       "|  81 | 56 | 22 |  35 |  39 | 1 | A |\n",
       "| 107 | 47 | 47 |  47 |  73 | 1 | B |\n",
       "|  77 | 26 | 56 |  64 |  64 | 1 | A |\n",
       "| 116 | 52 | 26 |  68 | 120 | 1 | B |\n",
       "|  90 | 73 | 52 |  60 |  64 | 1 | A |\n",
       "|  94 | 60 | 60 |  77 |  90 | 1 | B |\n",
       "|  90 | 60 | 18 |  35 |  64 | 1 | A |\n",
       "|  94 | 56 | 47 |  81 |  99 | 1 | B |\n",
       "| 103 | 47 | 22 |  60 |  99 | 1 | A |\n",
       "|  90 | 47 | 30 |  43 |  68 | 1 | B |\n",
       "|  85 | 56 | 56 |  77 |  94 | 1 | A |\n",
       "| 111 | 73 | 85 | 103 | 111 | 1 | B |\n",
       "|  99 | 47 | 52 |  47 |  81 | 1 | A |\n",
       "|  99 | 26 | 64 |  52 |  90 | 1 | B |\n",
       "|  90 | 43 | 18 |  30 |  39 | 1 | A |\n",
       "| 111 | 56 | 43 |  90 | 111 | 1 | B |\n",
       "|  90 | 35 | 22 |  26 |  22 | 1 | A |\n",
       "|  94 |  8 | 30 |  26 |  43 | 1 | B |\n",
       "| ... | ... | ... | ... | ... | ... | ... |\n",
       "|  90 | 12 | 43 |  85 |  99 | 2 | B |\n",
       "|  92 | 52 | 73 |  99 | 101 | 2 | A |\n",
       "|  85 | 35 | 39 |  85 |  77 | 2 | B |\n",
       "|  85 | 47 | 56 |  77 |  81 | 2 | A |\n",
       "|  90 | 43 | 35 |  64 |  81 | 2 | B |\n",
       "|  85 | 52 | 52 |  77 |  99 | 2 | A |\n",
       "| 103 | 56 | 47 |  64 |  56 | 2 | B |\n",
       "| 103 | 35 | 39 |  68 |  99 | 2 | A |\n",
       "|  90 | 35 | 18 |  64 |  94 | 2 | B |\n",
       "| 107 | 47 | 43 |  85 | 101 | 2 | A |\n",
       "|  90 | 52 | 35 |  35 |  39 | 2 | B |\n",
       "|  90 | 43 | 30 |  47 |  77 | 2 | A |\n",
       "|  77 | 56 | 64 |  81 |  99 | 2 | B |\n",
       "| 111 | 60 | 68 | 107 | 111 | 2 | A |\n",
       "|  81 | 22 | 12 |  22 |  77 | 2 | B |\n",
       "|  81 | 12 |  2 |  30 |  77 | 2 | A |\n",
       "|  68 | 12 |  8 |   8 |  39 | 2 | B |\n",
       "|  85 | 26 | 12 |  18 |  39 | 2 | A |\n",
       "|  85 | 30 | 22 |  52 |  94 | 2 | B |\n",
       "|  90 | 30 | 26 |  52 |  90 | 2 | A |\n",
       "|  85 | 39 | 22 |  56 |  90 | 2 | B |\n",
       "| 105 | 68 | 64 |  81 |  81 | 2 | A |\n",
       "|  85 | 47 | 33 |  77 | 107 | 2 | B |\n",
       "|  85 | 39 | 39 |  43 |  60 | 2 | A |\n",
       "|  85 | 35 | 26 |  43 |  73 | 2 | B |\n",
       "|  90 | 43 | 35 |  81 |  90 | 2 | A |\n",
       "|  94 | 39 | 35 |  52 |  85 | 2 | B |\n",
       "|  94 | 26 | 30 |  39 |  81 | 2 | A |\n",
       "|  90 | 22 | 26 |  73 |  99 | 2 | B |\n",
       "| 103 | 47 | 35 |  64 |  94 | 2 | A |\n",
       "\n"
      ],
      "text/plain": [
       "    L1  L2  L3  L4  L5  Group Treatment\n",
       "1    77 52  35   56  64 1     A        \n",
       "2    90 47  52   68  90 1     B        \n",
       "3    85 52  35   39  60 1     A        \n",
       "4    94 60  60   77  94 1     B        \n",
       "5    77 56  43   56  64 1     A        \n",
       "6    85 52  60   81  94 1     B        \n",
       "7   103 26  68   30  30 1     A        \n",
       "8   107 60  68   90  94 1     B        \n",
       "9    77 43  64   39  64 1     A        \n",
       "10   90 30  30   47  60 1     B        \n",
       "11   99 39  39   73  90 1     A        \n",
       "12  103 60  60   90  99 1     B        \n",
       "13   81 56  22   35  39 1     A        \n",
       "14  107 47  47   47  73 1     B        \n",
       "15   77 26  56   64  64 1     A        \n",
       "16  116 52  26   68 120 1     B        \n",
       "17   90 73  52   60  64 1     A        \n",
       "18   94 60  60   77  90 1     B        \n",
       "19   90 60  18   35  64 1     A        \n",
       "20   94 56  47   81  99 1     B        \n",
       "21  103 47  22   60  99 1     A        \n",
       "22   90 47  30   43  68 1     B        \n",
       "23   85 56  56   77  94 1     A        \n",
       "24  111 73  85  103 111 1     B        \n",
       "25   99 47  52   47  81 1     A        \n",
       "26   99 26  64   52  90 1     B        \n",
       "27   90 43  18   30  39 1     A        \n",
       "28  111 56  43   90 111 1     B        \n",
       "29   90 35  22   26  22 1     A        \n",
       "30   94  8  30   26  43 1     B        \n",
       "... ... ... ... ... ... ...   ...      \n",
       "59   90 12  43   85  99 2     B        \n",
       "60   92 52  73   99 101 2     A        \n",
       "61   85 35  39   85  77 2     B        \n",
       "62   85 47  56   77  81 2     A        \n",
       "63   90 43  35   64  81 2     B        \n",
       "64   85 52  52   77  99 2     A        \n",
       "65  103 56  47   64  56 2     B        \n",
       "66  103 35  39   68  99 2     A        \n",
       "67   90 35  18   64  94 2     B        \n",
       "68  107 47  43   85 101 2     A        \n",
       "69   90 52  35   35  39 2     B        \n",
       "70   90 43  30   47  77 2     A        \n",
       "71   77 56  64   81  99 2     B        \n",
       "72  111 60  68  107 111 2     A        \n",
       "73   81 22  12   22  77 2     B        \n",
       "74   81 12   2   30  77 2     A        \n",
       "75   68 12   8    8  39 2     B        \n",
       "76   85 26  12   18  39 2     A        \n",
       "77   85 30  22   52  94 2     B        \n",
       "78   90 30  26   52  90 2     A        \n",
       "79   85 39  22   56  90 2     B        \n",
       "80  105 68  64   81  81 2     A        \n",
       "81   85 47  33   77 107 2     B        \n",
       "82   85 39  39   43  60 2     A        \n",
       "83   85 35  26   43  73 2     B        \n",
       "84   90 43  35   81  90 2     A        \n",
       "85   94 39  35   52  85 2     B        \n",
       "86   94 26  30   39  81 2     A        \n",
       "87   90 22  26   73  99 2     B        \n",
       "88  103 47  35   64  94 2     A        "
      ]
     },
     "metadata": {},
     "output_type": "display_data"
    },
    {
     "data": {
      "text/plain": [
       "       L1               L2           L3              L4        \n",
       " Min.   : 68.00   Min.   : 8   Min.   : 2.00   Min.   :  8.00  \n",
       " 1st Qu.: 85.00   1st Qu.:35   1st Qu.:26.00   1st Qu.: 43.00  \n",
       " Median : 90.00   Median :47   Median :39.00   Median : 64.00  \n",
       " Mean   : 91.64   Mean   :44   Mean   :40.64   Mean   : 60.24  \n",
       " 3rd Qu.: 99.00   3rd Qu.:56   3rd Qu.:52.00   3rd Qu.: 77.00  \n",
       " Max.   :116.00   Max.   :73   Max.   :99.00   Max.   :107.00  \n",
       "       L5             Group      Treatment        \n",
       " Min.   : 22.00   Min.   :1.0   Length:88         \n",
       " 1st Qu.: 67.00   1st Qu.:1.0   Class :character  \n",
       " Median : 90.00   Median :1.5   Mode  :character  \n",
       " Mean   : 81.51   Mean   :1.5                     \n",
       " 3rd Qu.: 99.00   3rd Qu.:2.0                     \n",
       " Max.   :120.00   Max.   :2.0                     "
      ]
     },
     "metadata": {},
     "output_type": "display_data"
    },
    {
     "data": {
      "text/html": [
       "<style>\n",
       ".list-inline {list-style: none; margin:0; padding: 0}\n",
       ".list-inline>li {display: inline-block}\n",
       ".list-inline>li:not(:last-child)::after {content: \"\\00b7\"; padding: 0 .5ex}\n",
       "</style>\n",
       "<ol class=list-inline><li>88</li><li>7</li></ol>\n"
      ],
      "text/latex": [
       "\\begin{enumerate*}\n",
       "\\item 88\n",
       "\\item 7\n",
       "\\end{enumerate*}\n"
      ],
      "text/markdown": [
       "1. 88\n",
       "2. 7\n",
       "\n",
       "\n"
      ],
      "text/plain": [
       "[1] 88  7"
      ]
     },
     "metadata": {},
     "output_type": "display_data"
    }
   ],
   "source": [
    "data\n",
    "summary(data)\n",
    "dim(data)"
   ]
  },
  {
   "cell_type": "code",
   "execution_count": 3,
   "metadata": {},
   "outputs": [
    {
     "data": {
      "image/png": "[encoded data removed]",
      "text/plain": [
       "plot without title"
      ]
     },
     "metadata": {
      "image/png": {
       "height": 420,
       "width": 420
      }
     },
     "output_type": "display_data"
    }
   ],
   "source": [
    "plot(data)"
   ]
  },
  {
   "cell_type": "markdown",
   "metadata": {},
   "source": [
    "Notemos que se ven tendencias lineales entres las variables."
   ]
  },
  {
   "cell_type": "markdown",
   "metadata": {},
   "source": [
    "Realizamos la construcción de las matrices del modelo:"
   ]
  },
  {
   "cell_type": "code",
   "execution_count": 34,
   "metadata": {},
   "outputs": [],
   "source": [
    "# matriz  de  respuestas\n",
    "Y = matrix(as.numeric(unlist(data[,1:5])),nrow=nrow(data[,1:5]))"
   ]
  },
  {
   "cell_type": "code",
   "execution_count": 39,
   "metadata": {},
   "outputs": [],
   "source": [
    "# matrices  de  diseño\n",
    "X1 = rep(1,dim(Y)[1]/4)\n",
    "X2 = rep(0,dim(Y)[1]/4)\n",
    "X  = rbind(cbind(X1,X2),cbind(X2,X1),cbind(X1,X2),cbind(X2,X1))\n",
    "Z  = rbind(rep(1,5),c(0,1.5,3,4.5,6))"
   ]
  },
  {
   "cell_type": "code",
   "execution_count": 41,
   "metadata": {},
   "outputs": [],
   "source": [
    "# Estimador\n",
    "XX = crossprod(X)\n",
    "ZZ = crossprod(t(Z))\n",
    "XYZ = crossprod(X, Y%*%t(Z))\n",
    "B = solve(XX, XYZ%*%solve(ZZ))"
   ]
  },
  {
   "cell_type": "code",
   "execution_count": 43,
   "metadata": {},
   "outputs": [
    {
     "name": "stdout",
     "output_type": "stream",
     "text": [
      "       [,1]       [,2]\n",
      "X1 65.89091 -0.0969697\n",
      "X2 62.92273 -0.4378788\n"
     ]
    }
   ],
   "source": [
    "print(B)"
   ]
  },
  {
   "cell_type": "markdown",
   "metadata": {},
   "source": [
    "# Conclusiones rapidas.\n",
    "\n",
    "Con el tratamiento B el nivel de azucar en la sangre baja mas rápido que con el tratamiento A."
   ]
  },
  {
   "cell_type": "markdown",
   "metadata": {},
   "source": [
    "## Estimador para la varianza"
   ]
  },
  {
   "cell_type": "code",
   "execution_count": 51,
   "metadata": {},
   "outputs": [
    {
     "data": {
      "text/html": [
       "<table>\n",
       "<caption>A matrix: 5 × 5 of type dbl</caption>\n",
       "<tbody>\n",
       "\t<tr><td> 840.467614</td><td>-499.0819</td><td>-565.8846</td><td> -5.108796</td><td> 582.2078</td></tr>\n",
       "\t<tr><td>-499.081875</td><td> 634.9414</td><td> 607.0630</td><td>227.915943</td><td>-290.5900</td></tr>\n",
       "\t<tr><td>-565.884566</td><td> 607.0630</td><td> 859.1196</td><td>324.867283</td><td>-319.9732</td></tr>\n",
       "\t<tr><td>  -5.108796</td><td> 227.9159</td><td> 324.8673</td><td>476.548866</td><td> 290.1517</td></tr>\n",
       "\t<tr><td> 582.207831</td><td>-290.5900</td><td>-319.9732</td><td>290.151705</td><td> 827.7413</td></tr>\n",
       "</tbody>\n",
       "</table>\n"
      ],
      "text/latex": [
       "A matrix: 5 × 5 of type dbl\n",
       "\\begin{tabular}{lllll}\n",
       "\t  840.467614 & -499.0819 & -565.8846 &  -5.108796 &  582.2078\\\\\n",
       "\t -499.081875 &  634.9414 &  607.0630 & 227.915943 & -290.5900\\\\\n",
       "\t -565.884566 &  607.0630 &  859.1196 & 324.867283 & -319.9732\\\\\n",
       "\t   -5.108796 &  227.9159 &  324.8673 & 476.548866 &  290.1517\\\\\n",
       "\t  582.207831 & -290.5900 & -319.9732 & 290.151705 &  827.7413\\\\\n",
       "\\end{tabular}\n"
      ],
      "text/markdown": [
       "\n",
       "A matrix: 5 × 5 of type dbl\n",
       "\n",
       "|  840.467614 | -499.0819 | -565.8846 |  -5.108796 |  582.2078 |\n",
       "| -499.081875 |  634.9414 |  607.0630 | 227.915943 | -290.5900 |\n",
       "| -565.884566 |  607.0630 |  859.1196 | 324.867283 | -319.9732 |\n",
       "|   -5.108796 |  227.9159 |  324.8673 | 476.548866 |  290.1517 |\n",
       "|  582.207831 | -290.5900 | -319.9732 | 290.151705 |  827.7413 |\n",
       "\n"
      ],
      "text/plain": [
       "     [,1]        [,2]      [,3]      [,4]       [,5]     \n",
       "[1,]  840.467614 -499.0819 -565.8846  -5.108796  582.2078\n",
       "[2,] -499.081875  634.9414  607.0630 227.915943 -290.5900\n",
       "[3,] -565.884566  607.0630  859.1196 324.867283 -319.9732\n",
       "[4,]   -5.108796  227.9159  324.8673 476.548866  290.1517\n",
       "[5,]  582.207831 -290.5900 -319.9732 290.151705  827.7413"
      ]
     },
     "metadata": {},
     "output_type": "display_data"
    }
   ],
   "source": [
    "res = Y-X%*%B%*%Z\n",
    "n = nrow(Y)\n",
    "Sigma = crossprod(res)/n\n",
    "Sigma"
   ]
  },
  {
   "cell_type": "markdown",
   "metadata": {},
   "source": [
    "# Conclusión\n",
    "Existen fuertes correlaciones entre las variables."
   ]
  },
  {
   "cell_type": "markdown",
   "metadata": {},
   "source": [
    "# Varianza de B\n"
   ]
  },
  {
   "cell_type": "code",
   "execution_count": 60,
   "metadata": {},
   "outputs": [
    {
     "data": {
      "text/html": [
       "<table>\n",
       "<caption>A matrix: 4 × 4 of type dbl</caption>\n",
       "<tbody>\n",
       "\t<tr><td> 2.8580510</td><td>-0.2757285</td><td> 0.0000000</td><td> 0.0000000</td></tr>\n",
       "\t<tr><td>-0.2757285</td><td> 0.3048390</td><td> 0.0000000</td><td> 0.0000000</td></tr>\n",
       "\t<tr><td> 0.0000000</td><td> 0.0000000</td><td> 2.8580510</td><td>-0.2757285</td></tr>\n",
       "\t<tr><td> 0.0000000</td><td> 0.0000000</td><td>-0.2757285</td><td> 0.3048390</td></tr>\n",
       "</tbody>\n",
       "</table>\n"
      ],
      "text/latex": [
       "A matrix: 4 × 4 of type dbl\n",
       "\\begin{tabular}{llll}\n",
       "\t  2.8580510 & -0.2757285 &  0.0000000 &  0.0000000\\\\\n",
       "\t -0.2757285 &  0.3048390 &  0.0000000 &  0.0000000\\\\\n",
       "\t  0.0000000 &  0.0000000 &  2.8580510 & -0.2757285\\\\\n",
       "\t  0.0000000 &  0.0000000 & -0.2757285 &  0.3048390\\\\\n",
       "\\end{tabular}\n"
      ],
      "text/markdown": [
       "\n",
       "A matrix: 4 × 4 of type dbl\n",
       "\n",
       "|  2.8580510 | -0.2757285 |  0.0000000 |  0.0000000 |\n",
       "| -0.2757285 |  0.3048390 |  0.0000000 |  0.0000000 |\n",
       "|  0.0000000 |  0.0000000 |  2.8580510 | -0.2757285 |\n",
       "|  0.0000000 |  0.0000000 | -0.2757285 |  0.3048390 |\n",
       "\n"
      ],
      "text/plain": [
       "     [,1]       [,2]       [,3]       [,4]      \n",
       "[1,]  2.8580510 -0.2757285  0.0000000  0.0000000\n",
       "[2,] -0.2757285  0.3048390  0.0000000  0.0000000\n",
       "[3,]  0.0000000  0.0000000  2.8580510 -0.2757285\n",
       "[4,]  0.0000000  0.0000000 -0.2757285  0.3048390"
      ]
     },
     "metadata": {},
     "output_type": "display_data"
    }
   ],
   "source": [
    "Bvar = kronecker(solve(XX), solve(ZZ, Z%*%Sigma%*%t(Z))%*%solve(ZZ))\n",
    "Bvar"
   ]
  },
  {
   "cell_type": "code",
   "execution_count": null,
   "metadata": {},
   "outputs": [],
   "source": [
    "La matriz de covarianza es antisimetrica y simetrica por bloques lo cual le da una estructura de rela"
   ]
  }
 ],
 "metadata": {
  "kernelspec": {
   "display_name": "R",
   "language": "R",
   "name": "ir"
  },
  "language_info": {
   "codemirror_mode": "r",
   "file_extension": ".r",
   "mimetype": "text/x-r-source",
   "name": "R",
   "pygments_lexer": "r",
   "version": "4.0.2"
  }
 },
 "nbformat": 4,
 "nbformat_minor": 4
}
